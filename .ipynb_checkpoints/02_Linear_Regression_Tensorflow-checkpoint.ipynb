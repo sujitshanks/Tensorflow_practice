{
 "cells": [
  {
   "cell_type": "markdown",
   "id": "89024ce6",
   "metadata": {},
   "source": [
    "## Linear Regression\n",
    "\n",
    "Following a low level approach to understand mechanics behind the training process.\n"
   ]
  },
  {
   "cell_type": "code",
   "execution_count": 8,
   "id": "1e102827",
   "metadata": {},
   "outputs": [],
   "source": [
    "from __future__ import absolute_import, division, print_function"
   ]
  },
  {
   "cell_type": "code",
   "execution_count": 9,
   "id": "92271262",
   "metadata": {},
   "outputs": [],
   "source": [
    "import tensorflow as tf\n",
    "import numpy as np\n",
    "rng = np.random"
   ]
  },
  {
   "cell_type": "code",
   "execution_count": 13,
   "id": "3f09e900",
   "metadata": {},
   "outputs": [],
   "source": [
    "learning_rate = 0.01\n",
    "training_steps = 1000\n",
    "display_step = 50"
   ]
  },
  {
   "cell_type": "code",
   "execution_count": 14,
   "id": "0da1fbaa",
   "metadata": {},
   "outputs": [],
   "source": [
    "# Training Data.\n",
    "X = np.array([3.3,4.4,5.5,6.71,6.93,4.168,9.779,6.182,7.59,2.167,\n",
    "              7.042,10.791,5.313,7.997,5.654,9.27,3.1])\n",
    "Y = np.array([1.7,2.76,2.09,3.19,1.694,1.573,3.366,2.596,2.53,1.221,\n",
    "              2.827,3.465,1.65,2.904,2.42,2.94,1.3])"
   ]
  },
  {
   "cell_type": "code",
   "execution_count": 16,
   "id": "f0890e28",
   "metadata": {},
   "outputs": [],
   "source": [
    "# Weight and bias initialized randomly\n",
    "W = tf.Variable(rng.randn(), name=\"weight\")\n",
    "b = tf.Variable(rng.rand(), name=\"bias\")"
   ]
  },
  {
   "cell_type": "code",
   "execution_count": 17,
   "id": "ae07bcf0",
   "metadata": {},
   "outputs": [],
   "source": [
    "# Define functions \n",
    "# Linear regression\n",
    "\n",
    "def linear_regression(x):\n",
    "    return W * x + b\n",
    "\n",
    "# Mean square error using tflow\n",
    "def mean_square(y_pred, y_true):\n",
    "    return tf.reduce_mean(tf.square(y_pred - y_true))\n",
    "\n",
    "#Stochastic gradient descent optimizer\n",
    "optimizer = tf.optimizers.SGD(learning_rate)"
   ]
  },
  {
   "cell_type": "code",
   "execution_count": 18,
   "id": "4ae76400",
   "metadata": {},
   "outputs": [],
   "source": [
    "# Optimization process\n",
    "# This helps in carrying out Automatic Differentiation which in turn \n",
    "# helps in backpropagation while training neural networks.\n",
    "\n",
    "def run_optimization():\n",
    "    # Wrap computation with GradientTape for automatic differentation\n",
    "    with tf.GradientTape() as g:\n",
    "        pred = linear_regression(X)\n",
    "        loss = mean_square(pred, Y)\n",
    "        \n",
    "    #Compute gradients\n",
    "    gradients = g.gradient(loss, [W, b])\n",
    "    \n",
    "    # update W and b following gradients\n",
    "    optimizer.apply_gradients(zip(gradients, [W, b]))"
   ]
  },
  {
   "cell_type": "code",
   "execution_count": 19,
   "id": "8fbcb6ed",
   "metadata": {},
   "outputs": [
    {
     "name": "stdout",
     "output_type": "stream",
     "text": [
      "step: 50, loss: 0.159424, W: 0.281544, b: 0.586760\n",
      "step: 100, loss: 0.158223, W: 0.278121, b: 0.611025\n",
      "step: 150, loss: 0.157281, W: 0.275090, b: 0.632514\n",
      "step: 200, loss: 0.156542, W: 0.272406, b: 0.651543\n",
      "step: 250, loss: 0.155963, W: 0.270029, b: 0.668394\n",
      "step: 300, loss: 0.155509, W: 0.267924, b: 0.683317\n",
      "step: 350, loss: 0.155152, W: 0.266060, b: 0.696533\n",
      "step: 400, loss: 0.154873, W: 0.264409, b: 0.708236\n",
      "step: 450, loss: 0.154654, W: 0.262948, b: 0.718600\n",
      "step: 500, loss: 0.154482, W: 0.261653, b: 0.727778\n",
      "step: 550, loss: 0.154347, W: 0.260507, b: 0.735906\n",
      "step: 600, loss: 0.154242, W: 0.259491, b: 0.743103\n",
      "step: 650, loss: 0.154159, W: 0.258592, b: 0.749477\n",
      "step: 700, loss: 0.154094, W: 0.257796, b: 0.755121\n",
      "step: 750, loss: 0.154043, W: 0.257091, b: 0.760120\n",
      "step: 800, loss: 0.154003, W: 0.256467, b: 0.764546\n",
      "step: 850, loss: 0.153972, W: 0.255914, b: 0.768467\n",
      "step: 900, loss: 0.153947, W: 0.255424, b: 0.771938\n",
      "step: 950, loss: 0.153928, W: 0.254990, b: 0.775012\n",
      "step: 1000, loss: 0.153913, W: 0.254606, b: 0.777735\n"
     ]
    }
   ],
   "source": [
    "# Run training for the given number of steps.\n",
    "for step in range(1, training_steps + 1):\n",
    "    # Run the optimization to update W and b values.\n",
    "    run_optimization()\n",
    "    \n",
    "    if step % display_step == 0:\n",
    "        pred = linear_regression(X)\n",
    "        loss = mean_square(pred, Y)\n",
    "        print(\"step: %i, loss: %f, W: %f, b: %f\" % (step, loss, W.numpy(), b.numpy()))"
   ]
  },
  {
   "cell_type": "code",
   "execution_count": 20,
   "id": "874072f6",
   "metadata": {},
   "outputs": [
    {
     "data": {
      "image/png": "[encoded data removed]",
      "text/plain": [
       "<Figure size 432x288 with 1 Axes>"
      ]
     },
     "metadata": {
      "needs_background": "light"
     },
     "output_type": "display_data"
    }
   ],
   "source": [
    "import matplotlib.pyplot as plt\n",
    "\n",
    "# Graphic display\n",
    "plt.plot(X, Y, 'ro', label='Original data')\n",
    "plt.plot(X, np.array(W * X + b), label='Fitted line')\n",
    "plt.legend()\n",
    "plt.show()"
   ]
  },
  {
   "cell_type": "code",
   "execution_count": null,
   "id": "8691efea",
   "metadata": {},
   "outputs": [],
   "source": []
  }
 ],
 "metadata": {
  "kernelspec": {
   "display_name": "Python 3 (ipykernel)",
   "language": "python",
   "name": "python3"
  },
  "language_info": {
   "codemirror_mode": {
    "name": "ipython",
    "version": 3
   },
   "file_extension": ".py",
   "mimetype": "text/x-python",
   "name": "python",
   "nbconvert_exporter": "python",
   "pygments_lexer": "ipython3",
   "version": "3.9.7"
  }
 },
 "nbformat": 4,
 "nbformat_minor": 5
}
