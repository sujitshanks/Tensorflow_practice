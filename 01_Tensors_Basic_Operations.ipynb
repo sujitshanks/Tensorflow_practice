{
 "cells": [
  {
   "cell_type": "markdown",
   "id": "8406242f",
   "metadata": {},
   "source": [
    "Tensorflow 2.0 tutorial\n"
   ]
  },
  {
   "cell_type": "code",
   "execution_count": 1,
   "id": "5fd624c8",
   "metadata": {},
   "outputs": [],
   "source": [
    "from __future__ import absolute_import, division, print_function, unicode_literals\n",
    "\n",
    "# Install TensorFlow\n",
    "try:\n",
    "  # %tensorflow_version only exists in Colab.\n",
    "  %tensorflow_version 2.x\n",
    "except Exception:\n",
    "  pass\n",
    "\n",
    "import tensorflow as tf\n",
    "import numpy as np\n",
    "\n",
    "from pprint import pprint"
   ]
  },
  {
   "cell_type": "markdown",
   "id": "ee81bb21",
   "metadata": {},
   "source": [
    "Tensors are n-dimensional arrays with a specified data type. That is, each component of the Tensors has the same data type (e.g., int32 or float32), and such a data type is always known across the computation. Various methods can create tensors, two of which–that is–constants and variables are the most common ones."
   ]
  },
  {
   "cell_type": "markdown",
   "id": "f03130d8",
   "metadata": {},
   "source": [
    "### Constants"
   ]
  },
  {
   "cell_type": "code",
   "execution_count": 2,
   "id": "52f39ed4",
   "metadata": {},
   "outputs": [
    {
     "data": {
      "text/plain": [
       "<tf.Tensor: shape=(2, 3), dtype=int32, numpy=\n",
       "array([[1, 1, 1],\n",
       "       [1, 1, 1]])>"
      ]
     },
     "execution_count": 2,
     "metadata": {},
     "output_type": "execute_result"
    }
   ],
   "source": [
    "\n",
    "a = tf.ones(shape = (2,3), dtype = tf.int32) # tf.zeros, tf.eye etc\n",
    "a"
   ]
  },
  {
   "cell_type": "code",
   "execution_count": 3,
   "id": "9af934c1",
   "metadata": {},
   "outputs": [
    {
     "name": "stdout",
     "output_type": "stream",
     "text": [
      "b =  tf.Tensor(\n",
      "[[1 2 3]\n",
      " [4 5 6]], shape=(2, 3), dtype=int32)\n"
     ]
    }
   ],
   "source": [
    "# Or go for a numpy implementation\n",
    "b = tf.constant([[1, 2, 3], [4, 5, 6]])\n",
    "print(\"b = \",b)"
   ]
  },
  {
   "cell_type": "code",
   "execution_count": 4,
   "id": "f3299da1",
   "metadata": {},
   "outputs": [
    {
     "name": "stdout",
     "output_type": "stream",
     "text": [
      "c =  tf.Tensor([b'hello' b'world'], shape=(2,), dtype=string)\n"
     ]
    }
   ],
   "source": [
    "npvar = np.array([\"hello\", \"world\"])\n",
    "c = tf.constant(npvar)\n",
    "print(\"c = \", c)"
   ]
  },
  {
   "cell_type": "code",
   "execution_count": 5,
   "id": "49ea3cc1",
   "metadata": {},
   "outputs": [
    {
     "name": "stdout",
     "output_type": "stream",
     "text": [
      "d =  tf.Tensor(\n",
      "[[10. 10. 10. 10. 10.]\n",
      " [10. 10. 10. 10. 10.]], shape=(2, 5), dtype=float32)\n"
     ]
    }
   ],
   "source": [
    "d = tf.constant(10.0, shape = [2, 5])\n",
    "print(\"d = \", d)"
   ]
  },
  {
   "cell_type": "code",
   "execution_count": 6,
   "id": "555bcfee",
   "metadata": {},
   "outputs": [
    {
     "name": "stdout",
     "output_type": "stream",
     "text": [
      "e =  tf.Tensor(\n",
      "[[ 0.5664547   1.9228703   0.98809403]\n",
      " [ 0.5367959   0.12819572 -0.64551455]], shape=(2, 3), dtype=float32)\n"
     ]
    }
   ],
   "source": [
    "# Can also use random initializers in tf.\n",
    "\n",
    "e = tf.random.normal(shape = [2, 3], mean = 0.0, stddev = 1.0)\n",
    "print(\"e = \", e)"
   ]
  },
  {
   "cell_type": "code",
   "execution_count": 7,
   "id": "c04a7585",
   "metadata": {},
   "outputs": [
    {
     "name": "stdout",
     "output_type": "stream",
     "text": [
      "f =  tf.Tensor(\n",
      "[[2 8 8]\n",
      " [2 5 6]], shape=(2, 3), dtype=int32)\n"
     ]
    }
   ],
   "source": [
    "f = tf.random.uniform(shape = [2,3], minval = 0, maxval = 10, dtype = tf.int32)\n",
    "print(\"f = \", f)"
   ]
  },
  {
   "cell_type": "markdown",
   "id": "b0c2bec8",
   "metadata": {},
   "source": [
    "### Variables"
   ]
  },
  {
   "cell_type": "markdown",
   "id": "1f673a93",
   "metadata": {},
   "source": [
    "Variables hold a persistant shared state across your computation. The most common use case of Variables is the model's trainable parameters."
   ]
  },
  {
   "cell_type": "markdown",
   "id": "fd5fe3bb",
   "metadata": {},
   "source": [
    " Tensorflow cleans up variables when the runtime changes its scope and the variable is not referenced anymore. Therefore, it is your responsibility to keep track of variables in your Tensorflow program (Good news: Tensorflow's high-level APIs handles that automatically)"
   ]
  },
  {
   "cell_type": "code",
   "execution_count": 8,
   "id": "63a89564",
   "metadata": {},
   "outputs": [
    {
     "name": "stdout",
     "output_type": "stream",
     "text": [
      "w =  <tf.Variable 'my_var01:0' shape=() dtype=float32, numpy=20.0>\n"
     ]
    }
   ],
   "source": [
    "w = tf.Variable(20., name = \"my_var01\")\n",
    "print(\"w = \", w)"
   ]
  },
  {
   "cell_type": "code",
   "execution_count": 9,
   "id": "ef174a64",
   "metadata": {},
   "outputs": [
    {
     "name": "stdout",
     "output_type": "stream",
     "text": [
      "x =  <tf.Variable 'my_var02:0' shape=(2, 5) dtype=float32, numpy=\n",
      "array([[-0.8923396 , -0.05566967,  0.35046113, -0.4229583 , -0.9107968 ],\n",
      "       [ 0.64647627,  0.30392957,  0.91355515, -0.06518036, -0.6162864 ]],\n",
      "      dtype=float32)>\n"
     ]
    }
   ],
   "source": [
    "initializer =  tf.initializers.GlorotUniform()\n",
    "x = tf.Variable(initializer(shape = (2, 5)), name = \"my_var02\")\n",
    "print(\"x = \",x)"
   ]
  },
  {
   "cell_type": "code",
   "execution_count": 10,
   "id": "ad62cc8f",
   "metadata": {},
   "outputs": [
    {
     "name": "stdout",
     "output_type": "stream",
     "text": [
      "y =  <tf.Variable 'my_var03:0' shape=(5,) dtype=float32, numpy=array([0., 0., 0., 0., 0.], dtype=float32)>\n"
     ]
    }
   ],
   "source": [
    "y = tf.Variable(tf.zeros([5]), name = \"my_var03\")\n",
    "print(\"y = \",y)"
   ]
  },
  {
   "cell_type": "markdown",
   "id": "da5c4b43",
   "metadata": {},
   "source": [
    "Variables' APIs are mostly similar to Tensors. Hence, we can treat them like a standard Tensor."
   ]
  },
  {
   "cell_type": "code",
   "execution_count": 11,
   "id": "a2b045a1",
   "metadata": {},
   "outputs": [
    {
     "name": "stdout",
     "output_type": "stream",
     "text": [
      "v = tf.Tensor(21.0, shape=(), dtype=float32)\n",
      "v's type = <class 'tensorflow.python.framework.ops.EagerTensor'>\n",
      "w's type = <class 'tensorflow.python.ops.resource_variable_ops.ResourceVariable'>\n"
     ]
    }
   ],
   "source": [
    "v = w + 1.  # v is a tf.Tensor and is calculated as the result of\n",
    "            # a mathematical expression that is based on a variable(w).\n",
    "            # tf.Variable gets automatically converted to a tf.Tensor \n",
    "            # representing its value when it is envolved in a expression.\n",
    "\n",
    "print(\"v =\", v)\n",
    "print(f\"v's type = {type(v)}\")\n",
    "print(f\"w's type = {type(w)}\")\n",
    "\n"
   ]
  },
  {
   "cell_type": "code",
   "execution_count": 12,
   "id": "33641481",
   "metadata": {},
   "outputs": [
    {
     "name": "stdout",
     "output_type": "stream",
     "text": [
      "w = <tf.Variable 'my_var01:0' shape=() dtype=float32, numpy=42.0>\n"
     ]
    }
   ],
   "source": [
    "w.assign(v)\n",
    "w.assign_add(v)\n",
    "print('w =', w)"
   ]
  },
  {
   "cell_type": "markdown",
   "id": "dd8f9e26",
   "metadata": {},
   "source": [
    "### Rank, Shape and Type Conversion"
   ]
  },
  {
   "cell_type": "code",
   "execution_count": 13,
   "id": "1be5ecc5",
   "metadata": {},
   "outputs": [
    {
     "name": "stdout",
     "output_type": "stream",
     "text": [
      "a = \n",
      "[[1 1 1]\n",
      " [1 1 1]]\n",
      "a.dtype =  <dtype: 'int32'>\n",
      "a.shape =  (2, 3)\n",
      "a.rank =  2\n",
      "\n",
      "a.shape = tf.Tensor([2 3], shape=(2,), dtype=int32)\n",
      "a.rank = tf.Tensor(2, shape=(), dtype=int32)\n",
      "\n",
      "e (before type conversion) = tf.Tensor(\n",
      "[[ 0.5664547   1.9228703   0.98809403]\n",
      " [ 0.5367959   0.12819572 -0.64551455]], shape=(2, 3), dtype=float32)\n",
      "e (after type conversion) = tf.Tensor(\n",
      "[[0 1 0]\n",
      " [0 0 0]], shape=(2, 3), dtype=int32)\n",
      "\n",
      "type(e_np) = <class 'numpy.ndarray'>\n"
     ]
    },
    {
     "data": {
      "text/plain": [
       "array([[0, 1, 0],\n",
       "       [0, 0, 0]])"
      ]
     },
     "execution_count": 13,
     "metadata": {},
     "output_type": "execute_result"
    }
   ],
   "source": [
    "print(f\"a = \\n{a}\")\n",
    "print(\"a.dtype = \", a.dtype)\n",
    "print(\"a.shape = \", a.shape)\n",
    "print(\"a.rank = \", len(a.shape))\n",
    "\n",
    "# or...\n",
    "print(\"\\na.shape =\", tf.shape(a))\n",
    "print(\"a.rank =\", tf.rank(a)) \n",
    "# What is the difference?\n",
    "\n",
    "print(\"\\ne (before type conversion) =\", e)\n",
    "e_int = tf.cast(e, tf.int32)\n",
    "print(\"e (after type conversion) =\", e_int)\n",
    "\n",
    "# Convert a tf.Tensor object to an np.array instance\n",
    "e_np = e_int.numpy()\n",
    "print(f\"\\ntype(e_np) = {type(e_np)}\")\n",
    "e_np"
   ]
  },
  {
   "cell_type": "markdown",
   "id": "5a3f0dfc",
   "metadata": {},
   "source": [
    "## Tensor Manipulation\n",
    "### Element wise operations"
   ]
  },
  {
   "cell_type": "code",
   "execution_count": 14,
   "id": "21c72ec4",
   "metadata": {},
   "outputs": [
    {
     "name": "stdout",
     "output_type": "stream",
     "text": [
      "t1 + t2 = tf.Tensor(\n",
      "[[ 1  2  3]\n",
      " [ 4  6  7]\n",
      " [ 7  9 10]], shape=(3, 3), dtype=int32)\n",
      "t2 - t1 = tf.Tensor(\n",
      "[[1 2 3]\n",
      " [4 4 5]\n",
      " [7 7 8]], shape=(3, 3), dtype=int32)\n",
      "t1 * t2 = tf.Tensor(\n",
      "[[0 0 0]\n",
      " [0 5 6]\n",
      " [0 8 9]], shape=(3, 3), dtype=int32)\n",
      "t1 / t2 = tf.Tensor(\n",
      "[[0.         0.         0.        ]\n",
      " [0.         0.2        0.16666667]\n",
      " [0.         0.125      0.11111111]], shape=(3, 3), dtype=float64)\n"
     ]
    }
   ],
   "source": [
    "t1 = tf.constant([[0, 0, 0], [0, 1, 1], [0, 1, 1]])\n",
    "t2 = tf.constant([[1, 2, 3], [4, 5, 6], [7, 8, 9]])\n",
    "print('t1 + t2 =', t1 + t2)\n",
    "print('t2 - t1 =', t2 - t1)\n",
    "print('t1 * t2 =', t1 * t2)\n",
    "print('t1 / t2 =', t1 / t2)"
   ]
  },
  {
   "cell_type": "markdown",
   "id": "fba67707",
   "metadata": {},
   "source": [
    "Broadcasting happens in arithmetic operations encountering tensors with different shapes. Basically, Tensorflow \"broadcasts\" the smaller tensor across the larger matrix so that they become compatible. Think of broadcasting as repeating the values of the smaller tensor without actually needlessly copying them. In fact, Broadcasting provides an easy way to implement algorithms efficiently"
   ]
  },
  {
   "cell_type": "code",
   "execution_count": 15,
   "id": "d417e699",
   "metadata": {},
   "outputs": [
    {
     "name": "stdout",
     "output_type": "stream",
     "text": [
      "t1 + 100 = tf.Tensor([101 102 103 104], shape=(4,), dtype=int32)\n",
      "\n",
      "t1.shape = (2, 3), t2.shape = (1, 3)\n",
      "t1 + t2 = tf.Tensor(\n",
      "[[101 202 303]\n",
      " [104 205 306]], shape=(2, 3), dtype=int32)\n",
      "\n",
      "t1.shape = (2, 3), t2.shape = (2, 1)\n",
      "t1 + t2 = tf.Tensor(\n",
      "[[101 102 103]\n",
      " [204 205 206]], shape=(2, 3), dtype=int32)\n",
      "\n",
      "t1.shape = (1, 3), t2.shape = (2, 1)\n",
      "t1 + t2 = tf.Tensor(\n",
      "[[101 102 103]\n",
      " [201 202 203]], shape=(2, 3), dtype=int32)\n"
     ]
    }
   ],
   "source": [
    "t1 = tf.constant([1, 2, 3, 4])\n",
    "print(\"t1 + 100 =\", t1 + 100)\n",
    "\n",
    "# (m, n) + (1, n)\n",
    "t1 = tf.constant([[1, 2, 3], \n",
    "                  [4, 5, 6]])\n",
    "t2 = tf.constant([[100, 200, 300]])\n",
    "print(f\"\\nt1.shape = {t1.shape}, t2.shape = {t2.shape}\")\n",
    "print(\"t1 + t2 =\", t1 + t2)\n",
    "\n",
    "# (m, n) + (n, 1)\n",
    "t1 = tf.constant([[1, 2, 3], \n",
    "                  [4, 5, 6]])\n",
    "t2 = tf.constant([[100], \n",
    "                  [200]])\n",
    "print(f\"\\nt1.shape = {t1.shape}, t2.shape = {t2.shape}\")\n",
    "print(\"t1 + t2 =\", t1 + t2)\n",
    "\n",
    "# (1, n) + (m, 1)\n",
    "t1 = tf.constant([[1, 2, 3]])\n",
    "t2 = tf.constant([[100], \n",
    "                  [200]])\n",
    "print(f\"\\nt1.shape = {t1.shape}, t2.shape = {t2.shape}\")\n",
    "print(\"t1 + t2 =\", t1 + t2)"
   ]
  },
  {
   "cell_type": "code",
   "execution_count": 16,
   "id": "1889448c",
   "metadata": {},
   "outputs": [
    {
     "name": "stdout",
     "output_type": "stream",
     "text": [
      "Matrix mult of t1, t2 =  tf.Tensor(\n",
      "[[220 280]\n",
      " [490 640]], shape=(2, 2), dtype=int32)\n"
     ]
    }
   ],
   "source": [
    "# Matrix Multiplication\n",
    "\n",
    "t1 = tf.constant([[1, 2, 3], [4, 5, 6]])\n",
    "t2 = tf.constant([[10, 20],\n",
    "                  [30, 40],\n",
    "                  [50, 60]])\n",
    "\n",
    "print(\"Matrix mult of t1, t2 = \", tf.matmul(t1,t2))"
   ]
  },
  {
   "cell_type": "code",
   "execution_count": 17,
   "id": "471279c8",
   "metadata": {},
   "outputs": [
    {
     "name": "stdout",
     "output_type": "stream",
     "text": [
      "tf.transpose(t1, [1, 0]) = tf.Tensor(\n",
      "[[1 4]\n",
      " [2 5]\n",
      " [3 6]], shape=(3, 2), dtype=int32)\n",
      "\n",
      "t1_t.shape = (2, 13, 5)\n",
      "\n",
      "t1_t.shape = (13, 2, 5)\n"
     ]
    }
   ],
   "source": [
    "# tf.transpose(t, perm) permutes the dimensions according to the `perm` parameter.\n",
    "t1 = tf.constant([[1, 2, 3], [4, 5, 6]]) # (2,3) -> (3, 2)\n",
    "print(\"tf.transpose(t1, [1, 0]) =\", tf.transpose(t1, perm=[1, 0])) \n",
    "\n",
    "# It also works in higher dimensions\n",
    "t1 = tf.ones(shape=(2, 5, 13))\n",
    "t1_t = tf.transpose(t1, perm=[0, 2, 1])\n",
    "print(f\"\\nt1_t.shape = {t1_t.shape}\")\n",
    "\n",
    "# You can permute the order of more than two dimensions at the same time.\n",
    "t1 = tf.ones(shape=(2, 5, 13))\n",
    "t1_t = tf.transpose(t1, perm=[2, 0, 1])\n",
    "print(f\"\\nt1_t.shape = {t1_t.shape}\")"
   ]
  },
  {
   "cell_type": "code",
   "execution_count": null,
   "id": "b08e8007",
   "metadata": {},
   "outputs": [],
   "source": []
  }
 ],
 "metadata": {
  "kernelspec": {
   "display_name": "Python 3 (ipykernel)",
   "language": "python",
   "name": "python3"
  },
  "language_info": {
   "codemirror_mode": {
    "name": "ipython",
    "version": 3
   },
   "file_extension": ".py",
   "mimetype": "text/x-python",
   "name": "python",
   "nbconvert_exporter": "python",
   "pygments_lexer": "ipython3",
   "version": "3.9.7"
  }
 },
 "nbformat": 4,
 "nbformat_minor": 5
}
