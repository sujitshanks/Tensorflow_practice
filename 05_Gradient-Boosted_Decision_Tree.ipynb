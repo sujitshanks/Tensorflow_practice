{
 "cells": [
  {
   "cell_type": "markdown",
   "id": "1f0697fd",
   "metadata": {},
   "source": [
    "## Gradient Boosted Decision Tree\n",
    "\n",
    "Impleement a GBDT with TensorFlow using the Boston Housing Value dataset as training samples. Can use it for classification (2 classes: value > 23000 dollars or not) and regression (home value as target)."
   ]
  },
  {
   "cell_type": "markdown",
   "id": "4eb398c1",
   "metadata": {},
   "source": [
    "### Boston Housing Dataset\n",
    "https://www.cs.toronto.edu/~delve/data/boston/bostonDetail.html\n",
    "\n",
    "The dataset contains information collected by the U.S Census Service concerning housing in the area of Boston Mass. It was obtained from the StatLib archive (http://lib.stat.cmu.edu/datasets/boston), and has been used extensively throughout the literature to benchmark algorithms. However, these comparisons were primarily done outside of Delve and are thus somewhat suspect. The dataset is small in size with only 506 cases."
   ]
  },
  {
   "cell_type": "code",
   "execution_count": 1,
   "id": "1694b0f8",
   "metadata": {},
   "outputs": [],
   "source": [
    "from __future__ import print_function\n",
    "\n",
    "import os\n",
    "os.environ[\"CUDA_VISIBLE_DEVICES\"] = \"\"\n",
    "os.environ['TF_CPP_MIN_LOG_LEVEL'] = \"1\"\n",
    "\n",
    "import tensorflow as tf\n",
    "import numpy as np\n",
    "import copy"
   ]
  },
  {
   "cell_type": "code",
   "execution_count": 3,
   "id": "344d1bb5",
   "metadata": {},
   "outputs": [],
   "source": [
    "# Dataset parameters\n",
    "num_classes = 2 # 2 classes; above and below 23000 dollars\n",
    "num_features = 13 # data feature size\n",
    "\n",
    "# training params\n",
    "max_steps = 2000\n",
    "batch_size = 256\n",
    "learning_rate = 1.0\n",
    "l1_regul = 0.0\n",
    "l2_regul = 0.1\n",
    "\n",
    "#GBDT params\n",
    "num_batches_per_layer = 1000\n",
    "num_trees = 10\n",
    "max_depth = 4\n"
   ]
  },
  {
   "cell_type": "code",
   "execution_count": 4,
   "id": "5878768c",
   "metadata": {},
   "outputs": [
    {
     "name": "stdout",
     "output_type": "stream",
     "text": [
      "Downloading data from https://storage.googleapis.com/tensorflow/tf-keras-datasets/boston_housing.npz\n",
      "57344/57026 [==============================] - 0s 0s/step\n",
      "65536/57026 [==================================] - 0s 0s/step\n"
     ]
    }
   ],
   "source": [
    "# prepare Boston Housing Dataset\n",
    "from tensorflow.keras.datasets import boston_housing\n",
    "(x_train, y_train), (x_test, y_test) = boston_housing.load_data()\n",
    "\n",
    "# for classification we build 2 classes as explained earlier\n",
    "def to_binary_class(y):\n",
    "    for i, label in enumerate(y):\n",
    "        if label >- 23.0:\n",
    "            y[i] = 1\n",
    "        else:\n",
    "            y[i] = 0\n",
    "    return y\n",
    "\n",
    "y_train_binary = to_binary_class(copy.deepcopy(y_train))\n",
    "y_test_binary = to_binary_class(copy.deepcopy(y_test))"
   ]
  },
  {
   "cell_type": "markdown",
   "id": "12a5aa2b",
   "metadata": {},
   "source": [
    "## GBDT Classifier"
   ]
  },
  {
   "cell_type": "code",
   "execution_count": 5,
   "id": "a98274ba",
   "metadata": {},
   "outputs": [
    {
     "name": "stdout",
     "output_type": "stream",
     "text": [
      "WARNING:tensorflow:From C:\\Users\\SUJIT\\AppData\\Local\\Programs\\Python\\Python39\\lib\\site-packages\\tensorflow\\python\\util\\lazy_loader.py:63: The name tf.estimator.inputs is deprecated. Please use tf.compat.v1.estimator.inputs instead.\n",
      "\n",
      "WARNING:tensorflow:From C:\\Users\\SUJIT\\AppData\\Local\\Temp/ipykernel_11004/2985227249.py:3: The name tf.estimator.inputs.numpy_input_fn is deprecated. Please use tf.compat.v1.estimator.inputs.numpy_input_fn instead.\n",
      "\n"
     ]
    }
   ],
   "source": [
    "# build an input function\n",
    "\n",
    "train_input_fn = tf.compat.v1.estimator.inputs.numpy_input_fn(\n",
    "    x={'x': x_train}, y=y_train_binary,\n",
    "    batch_size=batch_size, num_epochs=None, shuffle=True)\n",
    "test_input_fn = tf.compat.v1.estimator.inputs.numpy_input_fn(\n",
    "    x={'x': x_test}, y=y_test_binary,\n",
    "    batch_size=batch_size, num_epochs=1, shuffle=False)\n",
    "test_train_input_fn = tf.compat.v1.estimator.inputs.numpy_input_fn(\n",
    "    x={'x': x_train}, y=y_train_binary,\n",
    "    batch_size=batch_size, num_epochs=1, shuffle=False)\n",
    "# GBDT Models from TF Estimator requires 'feature_column' data format.\n",
    "feature_columns = [tf.feature_column.numeric_column(key='x', shape=(num_features,))]\n",
    "\n"
   ]
  },
  {
   "cell_type": "code",
   "execution_count": 6,
   "id": "6ab2f3ec",
   "metadata": {},
   "outputs": [
    {
     "name": "stdout",
     "output_type": "stream",
     "text": [
      "INFO:tensorflow:Using default config.\n",
      "WARNING:tensorflow:Using temporary folder as model directory: C:\\Users\\SUJIT\\AppData\\Local\\Temp\\tmphiw_jfrg\n",
      "INFO:tensorflow:Using config: {'_model_dir': 'C:\\\\Users\\\\SUJIT\\\\AppData\\\\Local\\\\Temp\\\\tmphiw_jfrg', '_tf_random_seed': None, '_save_summary_steps': 100, '_save_checkpoints_steps': None, '_save_checkpoints_secs': 600, '_session_config': allow_soft_placement: true\n",
      "graph_options {\n",
      "  rewrite_options {\n",
      "    meta_optimizer_iterations: ONE\n",
      "  }\n",
      "}\n",
      ", '_keep_checkpoint_max': 5, '_keep_checkpoint_every_n_hours': 10000, '_log_step_count_steps': 100, '_train_distribute': None, '_device_fn': None, '_protocol': None, '_eval_distribute': None, '_experimental_distribute': None, '_experimental_max_worker_delay_secs': None, '_session_creation_timeout_secs': 7200, '_checkpoint_save_graph_def': True, '_service': None, '_cluster_spec': ClusterSpec({}), '_task_type': 'worker', '_task_id': 0, '_global_id_in_cluster': 0, '_master': '', '_evaluation_master': '', '_is_chief': True, '_num_ps_replicas': 0, '_num_worker_replicas': 1}\n"
     ]
    }
   ],
   "source": [
    "gbdt_classifier = tf.estimator.BoostedTreesClassifier(\n",
    "    n_batches_per_layer=num_batches_per_layer,\n",
    "    feature_columns=feature_columns, \n",
    "    n_classes=num_classes,\n",
    "    learning_rate=learning_rate, \n",
    "    n_trees=num_trees,\n",
    "    max_depth=max_depth,\n",
    "    l1_regularization=l1_regul, \n",
    "    l2_regularization=l2_regul\n",
    ")"
   ]
  },
  {
   "cell_type": "code",
   "execution_count": 7,
   "id": "9f43a542",
   "metadata": {},
   "outputs": [
    {
     "name": "stdout",
     "output_type": "stream",
     "text": [
      "WARNING:tensorflow:From C:\\Users\\SUJIT\\AppData\\Local\\Programs\\Python\\Python39\\lib\\site-packages\\tensorflow\\python\\training\\training_util.py:235: Variable.initialized_value (from tensorflow.python.ops.variables) is deprecated and will be removed in a future version.\n",
      "Instructions for updating:\n",
      "Use Variable.read_value. Variables in 2.X are initialized automatically both in eager and graph (inside tf.defun) contexts.\n",
      "WARNING:tensorflow:From C:\\Users\\SUJIT\\AppData\\Local\\Programs\\Python\\Python39\\lib\\site-packages\\tensorflow_estimator\\python\\estimator\\inputs\\queues\\feeding_queue_runner.py:60: QueueRunner.__init__ (from tensorflow.python.training.queue_runner_impl) is deprecated and will be removed in a future version.\n",
      "Instructions for updating:\n",
      "To construct input pipelines, use the `tf.data` module.\n",
      "WARNING:tensorflow:From C:\\Users\\SUJIT\\AppData\\Local\\Programs\\Python\\Python39\\lib\\site-packages\\tensorflow_estimator\\python\\estimator\\inputs\\queues\\feeding_functions.py:491: add_queue_runner (from tensorflow.python.training.queue_runner_impl) is deprecated and will be removed in a future version.\n",
      "Instructions for updating:\n",
      "To construct input pipelines, use the `tf.data` module.\n",
      "INFO:tensorflow:Calling model_fn.\n",
      "INFO:tensorflow:Done calling model_fn.\n",
      "INFO:tensorflow:Create CheckpointSaverHook.\n",
      "WARNING:tensorflow:Issue encountered when serializing resources.\n",
      "Type is unsupported, or the types of the items don't match field type in CollectionDef. Note this is a warning and probably safe to ignore.\n",
      "'_Resource' object has no attribute 'name'\n",
      "INFO:tensorflow:Graph was finalized.\n",
      "INFO:tensorflow:Running local_init_op.\n",
      "INFO:tensorflow:Done running local_init_op.\n",
      "WARNING:tensorflow:From C:\\Users\\SUJIT\\AppData\\Local\\Programs\\Python\\Python39\\lib\\site-packages\\tensorflow\\python\\training\\monitored_session.py:907: start_queue_runners (from tensorflow.python.training.queue_runner_impl) is deprecated and will be removed in a future version.\n",
      "Instructions for updating:\n",
      "To construct input pipelines, use the `tf.data` module.\n",
      "WARNING:tensorflow:Issue encountered when serializing resources.\n",
      "Type is unsupported, or the types of the items don't match field type in CollectionDef. Note this is a warning and probably safe to ignore.\n",
      "'_Resource' object has no attribute 'name'\n",
      "INFO:tensorflow:Calling checkpoint listeners before saving checkpoint 0...\n",
      "INFO:tensorflow:Saving checkpoints for 0 into C:\\Users\\SUJIT\\AppData\\Local\\Temp\\tmphiw_jfrg\\model.ckpt.\n",
      "WARNING:tensorflow:Issue encountered when serializing resources.\n",
      "Type is unsupported, or the types of the items don't match field type in CollectionDef. Note this is a warning and probably safe to ignore.\n",
      "'_Resource' object has no attribute 'name'\n",
      "INFO:tensorflow:Calling checkpoint listeners after saving checkpoint 0...\n",
      "INFO:tensorflow:loss = 0.6931475, step = 0\n",
      "WARNING:tensorflow:It seems that global step (tf.train.get_global_step) has not been increased. Current value (could be stable): 0 vs previous value: 0. You could increase the global step by passing tf.train.get_global_step() to Optimizer.apply_gradients or Optimizer.minimize.\n",
      "WARNING:tensorflow:It seems that global step (tf.train.get_global_step) has not been increased. Current value (could be stable): 0 vs previous value: 0. You could increase the global step by passing tf.train.get_global_step() to Optimizer.apply_gradients or Optimizer.minimize.\n",
      "WARNING:tensorflow:It seems that global step (tf.train.get_global_step) has not been increased. Current value (could be stable): 0 vs previous value: 0. You could increase the global step by passing tf.train.get_global_step() to Optimizer.apply_gradients or Optimizer.minimize.\n",
      "WARNING:tensorflow:It seems that global step (tf.train.get_global_step) has not been increased. Current value (could be stable): 0 vs previous value: 0. You could increase the global step by passing tf.train.get_global_step() to Optimizer.apply_gradients or Optimizer.minimize.\n",
      "WARNING:tensorflow:It seems that global step (tf.train.get_global_step) has not been increased. Current value (could be stable): 0 vs previous value: 0. You could increase the global step by passing tf.train.get_global_step() to Optimizer.apply_gradients or Optimizer.minimize.\n",
      "INFO:tensorflow:loss = 0.6931475, step = 0 (0.192 sec)\n",
      "INFO:tensorflow:loss = 0.6931475, step = 0 (0.068 sec)\n",
      "INFO:tensorflow:loss = 0.6931475, step = 0 (0.064 sec)\n",
      "INFO:tensorflow:loss = 0.6931475, step = 0 (0.068 sec)\n",
      "INFO:tensorflow:loss = 0.6931475, step = 0 (0.064 sec)\n",
      "INFO:tensorflow:loss = 0.6931475, step = 0 (0.064 sec)\n",
      "INFO:tensorflow:loss = 0.6931475, step = 0 (0.064 sec)\n",
      "INFO:tensorflow:loss = 0.6931475, step = 0 (0.068 sec)\n",
      "INFO:tensorflow:loss = 0.6931475, step = 0 (0.064 sec)\n",
      "INFO:tensorflow:loss = 0.6931475, step = 0 (0.067 sec)\n",
      "INFO:tensorflow:global_step/sec: 108.139\n",
      "INFO:tensorflow:loss = 0.6931475, step = 100 (0.145 sec)\n",
      "INFO:tensorflow:global_step/sec: 1190.49\n",
      "INFO:tensorflow:loss = 0.6931475, step = 200 (0.084 sec)\n",
      "INFO:tensorflow:global_step/sec: 1250.02\n",
      "INFO:tensorflow:loss = 0.6931475, step = 300 (0.080 sec)\n",
      "INFO:tensorflow:global_step/sec: 1250.03\n",
      "INFO:tensorflow:loss = 0.6931475, step = 400 (0.076 sec)\n",
      "INFO:tensorflow:global_step/sec: 1243.07\n",
      "INFO:tensorflow:loss = 0.6931475, step = 500 (0.080 sec)\n",
      "INFO:tensorflow:global_step/sec: 1253.2\n",
      "INFO:tensorflow:loss = 0.6931475, step = 600 (0.080 sec)\n",
      "INFO:tensorflow:global_step/sec: 1250.02\n",
      "INFO:tensorflow:loss = 0.6931475, step = 700 (0.080 sec)\n",
      "INFO:tensorflow:global_step/sec: 1250.02\n",
      "INFO:tensorflow:loss = 0.6931475, step = 800 (0.084 sec)\n",
      "INFO:tensorflow:global_step/sec: 1250.02\n",
      "INFO:tensorflow:loss = 0.6931475, step = 900 (0.080 sec)\n",
      "INFO:tensorflow:global_step/sec: 1176.09\n",
      "INFO:tensorflow:loss = 0.2148299, step = 1000 (0.088 sec)\n",
      "INFO:tensorflow:global_step/sec: 1070.69\n",
      "INFO:tensorflow:loss = 0.2148299, step = 1100 (0.087 sec)\n",
      "INFO:tensorflow:global_step/sec: 1132.15\n",
      "INFO:tensorflow:loss = 0.2148299, step = 1200 (0.090 sec)\n",
      "INFO:tensorflow:global_step/sec: 1095.94\n",
      "INFO:tensorflow:loss = 0.2148299, step = 1300 (0.090 sec)\n",
      "INFO:tensorflow:global_step/sec: 1194.26\n",
      "INFO:tensorflow:loss = 0.2148299, step = 1400 (0.083 sec)\n",
      "INFO:tensorflow:global_step/sec: 1252.94\n",
      "INFO:tensorflow:loss = 0.2148299, step = 1500 (0.080 sec)\n",
      "INFO:tensorflow:global_step/sec: 1106.2\n",
      "INFO:tensorflow:loss = 0.2148299, step = 1600 (0.090 sec)\n",
      "INFO:tensorflow:global_step/sec: 1250.59\n",
      "INFO:tensorflow:loss = 0.2148299, step = 1700 (0.085 sec)\n",
      "INFO:tensorflow:global_step/sec: 1256.17\n",
      "INFO:tensorflow:loss = 0.2148299, step = 1800 (0.085 sec)\n",
      "INFO:tensorflow:global_step/sec: 1108.48\n",
      "INFO:tensorflow:loss = 0.2148299, step = 1900 (0.080 sec)\n",
      "INFO:tensorflow:global_step/sec: 1252.46\n",
      "INFO:tensorflow:Calling checkpoint listeners before saving checkpoint 2000...\n",
      "INFO:tensorflow:Saving checkpoints for 2000 into C:\\Users\\SUJIT\\AppData\\Local\\Temp\\tmphiw_jfrg\\model.ckpt.\n",
      "WARNING:tensorflow:Issue encountered when serializing resources.\n",
      "Type is unsupported, or the types of the items don't match field type in CollectionDef. Note this is a warning and probably safe to ignore.\n",
      "'_Resource' object has no attribute 'name'\n",
      "INFO:tensorflow:Calling checkpoint listeners after saving checkpoint 2000...\n",
      "INFO:tensorflow:Loss for final step: 0.2148299.\n"
     ]
    },
    {
     "data": {
      "text/plain": [
       "<tensorflow_estimator.python.estimator.canned.boosted_trees.BoostedTreesClassifier at 0x186abe2c070>"
      ]
     },
     "execution_count": 7,
     "metadata": {},
     "output_type": "execute_result"
    }
   ],
   "source": [
    "gbdt_classifier.train(train_input_fn, max_steps=max_steps)"
   ]
  },
  {
   "cell_type": "code",
   "execution_count": 8,
   "id": "33e41f02",
   "metadata": {},
   "outputs": [
    {
     "name": "stdout",
     "output_type": "stream",
     "text": [
      "INFO:tensorflow:Calling model_fn.\n",
      "WARNING:tensorflow:From C:\\Users\\SUJIT\\AppData\\Local\\Programs\\Python\\Python39\\lib\\site-packages\\tensorflow_estimator\\python\\estimator\\canned\\head.py:635: auc (from tensorflow.python.ops.metrics_impl) is deprecated and will be removed in a future version.\n",
      "Instructions for updating:\n",
      "The value of AUC returned by this may race with the update so this is deprecated. Please use tf.keras.metrics.AUC instead.\n",
      "WARNING:tensorflow:Trapezoidal rule is known to produce incorrect PR-AUCs; please switch to \"careful_interpolation\" instead.\n",
      "WARNING:tensorflow:Trapezoidal rule is known to produce incorrect PR-AUCs; please switch to \"careful_interpolation\" instead.\n",
      "INFO:tensorflow:Done calling model_fn.\n",
      "INFO:tensorflow:Starting evaluation at 2021-12-03T16:11:23\n",
      "INFO:tensorflow:Graph was finalized.\n",
      "INFO:tensorflow:Restoring parameters from C:\\Users\\SUJIT\\AppData\\Local\\Temp\\tmphiw_jfrg\\model.ckpt-2000\n",
      "INFO:tensorflow:Running local_init_op.\n",
      "INFO:tensorflow:Done running local_init_op.\n",
      "INFO:tensorflow:Inference Time : 0.31976s\n",
      "INFO:tensorflow:Finished evaluation at 2021-12-03-16:11:23\n",
      "INFO:tensorflow:Saving dict for global step 2000: accuracy = 1.0, accuracy_baseline = 1.0, auc = 0.0, auc_precision_recall = 1.0, average_loss = 0.10670168, global_step = 2000, label/mean = 1.0, loss = 0.10670169, precision = 1.0, prediction/mean = 0.89879405, recall = 1.0\n",
      "WARNING:tensorflow:Issue encountered when serializing resources.\n",
      "Type is unsupported, or the types of the items don't match field type in CollectionDef. Note this is a warning and probably safe to ignore.\n",
      "'_Resource' object has no attribute 'name'\n",
      "INFO:tensorflow:Saving 'checkpoint_path' summary for global step 2000: C:\\Users\\SUJIT\\AppData\\Local\\Temp\\tmphiw_jfrg\\model.ckpt-2000\n"
     ]
    },
    {
     "data": {
      "text/plain": [
       "{'accuracy': 1.0,\n",
       " 'accuracy_baseline': 1.0,\n",
       " 'auc': 0.0,\n",
       " 'auc_precision_recall': 1.0,\n",
       " 'average_loss': 0.10670168,\n",
       " 'label/mean': 1.0,\n",
       " 'loss': 0.10670169,\n",
       " 'precision': 1.0,\n",
       " 'prediction/mean': 0.89879405,\n",
       " 'recall': 1.0,\n",
       " 'global_step': 2000}"
      ]
     },
     "execution_count": 8,
     "metadata": {},
     "output_type": "execute_result"
    }
   ],
   "source": [
    "\n",
    "gbdt_classifier.evaluate(test_train_input_fn)"
   ]
  },
  {
   "cell_type": "code",
   "execution_count": 9,
   "id": "b566403e",
   "metadata": {},
   "outputs": [
    {
     "name": "stdout",
     "output_type": "stream",
     "text": [
      "INFO:tensorflow:Calling model_fn.\n",
      "WARNING:tensorflow:Trapezoidal rule is known to produce incorrect PR-AUCs; please switch to \"careful_interpolation\" instead.\n",
      "WARNING:tensorflow:Trapezoidal rule is known to produce incorrect PR-AUCs; please switch to \"careful_interpolation\" instead.\n",
      "INFO:tensorflow:Done calling model_fn.\n",
      "INFO:tensorflow:Starting evaluation at 2021-12-03T16:11:38\n",
      "INFO:tensorflow:Graph was finalized.\n",
      "INFO:tensorflow:Restoring parameters from C:\\Users\\SUJIT\\AppData\\Local\\Temp\\tmphiw_jfrg\\model.ckpt-2000\n",
      "INFO:tensorflow:Running local_init_op.\n",
      "INFO:tensorflow:Done running local_init_op.\n",
      "INFO:tensorflow:Inference Time : 0.28824s\n",
      "INFO:tensorflow:Finished evaluation at 2021-12-03-16:11:39\n",
      "INFO:tensorflow:Saving dict for global step 2000: accuracy = 1.0, accuracy_baseline = 1.0, auc = 0.0, auc_precision_recall = 1.0, average_loss = 0.1067017, global_step = 2000, label/mean = 1.0, loss = 0.1067017, precision = 1.0, prediction/mean = 0.8987938, recall = 1.0\n",
      "INFO:tensorflow:Saving 'checkpoint_path' summary for global step 2000: C:\\Users\\SUJIT\\AppData\\Local\\Temp\\tmphiw_jfrg\\model.ckpt-2000\n"
     ]
    },
    {
     "data": {
      "text/plain": [
       "{'accuracy': 1.0,\n",
       " 'accuracy_baseline': 1.0,\n",
       " 'auc': 0.0,\n",
       " 'auc_precision_recall': 1.0,\n",
       " 'average_loss': 0.1067017,\n",
       " 'label/mean': 1.0,\n",
       " 'loss': 0.1067017,\n",
       " 'precision': 1.0,\n",
       " 'prediction/mean': 0.8987938,\n",
       " 'recall': 1.0,\n",
       " 'global_step': 2000}"
      ]
     },
     "execution_count": 9,
     "metadata": {},
     "output_type": "execute_result"
    }
   ],
   "source": [
    "gbdt_classifier.evaluate(test_input_fn)"
   ]
  },
  {
   "cell_type": "code",
   "execution_count": null,
   "id": "67fb2f86",
   "metadata": {},
   "outputs": [],
   "source": []
  }
 ],
 "metadata": {
  "kernelspec": {
   "display_name": "Python 3 (ipykernel)",
   "language": "python",
   "name": "python3"
  },
  "language_info": {
   "codemirror_mode": {
    "name": "ipython",
    "version": 3
   },
   "file_extension": ".py",
   "mimetype": "text/x-python",
   "name": "python",
   "nbconvert_exporter": "python",
   "pygments_lexer": "ipython3",
   "version": "3.9.7"
  }
 },
 "nbformat": 4,
 "nbformat_minor": 5
}
